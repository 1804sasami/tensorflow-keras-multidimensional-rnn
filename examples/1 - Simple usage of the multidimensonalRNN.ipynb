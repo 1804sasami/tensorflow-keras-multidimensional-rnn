{
 "cells": [
  {
   "cell_type": "code",
   "execution_count": 2,
   "metadata": {},
   "outputs": [
    {
     "data": {
      "text/plain": [
       "'2.0.0'"
      ]
     },
     "execution_count": 2,
     "metadata": {},
     "output_type": "execute_result"
    }
   ],
   "source": [
    "import tensorflow as tf\n",
    "import numpy as np\n",
    "\n",
    "# if this import fails, add the folder Space-RNN-GRU to sys.path\n",
    "# import sys\n",
    "# sys.path.append(\"/path/to/folder/Space-RNN-GRU/\")\n",
    "\n",
    "from mdrnn import MultiDimensionalRNN\n",
    "\n",
    "tf.__version__"
   ]
  },
  {
   "cell_type": "markdown",
   "metadata": {},
   "source": [
    "## Dummy example to test MDRNN flow\n",
    "\n",
    "#### <center>Recurrent function to compute the hidden state at position i,j</center>\n",
    "\n",
    "$$\\vec{h}_{ij}=f(\\vec{h}_{i-1,j},\\vec{h}_{i,j-1}, \\vec{h}_{i-1,j-1}, \\vec{s}_{ij})$$"
   ]
  },
  {
   "cell_type": "code",
   "execution_count": 3,
   "metadata": {},
   "outputs": [],
   "source": [
    "# normal python plus numpy implementation of this recursion with a simple computation (sum all the previous states plus the entry)\n",
    "\n",
    "def cell(left_state, top_state, diagonal_state, entry):\n",
    "    return left_state + top_state + diagonal_state + entry\n",
    "\n",
    "\n",
    "def recursive_mdrnn(input_matrix, hidden, i,j):\n",
    "    \n",
    "    if i<0 or j<0:\n",
    "        return 0\n",
    "    \n",
    "    if hidden[i,j] !=- 1: # MEMOIZATION to speed up the recursion (only computes once)\n",
    "        return hidden[i,j]\n",
    "    \n",
    "    # set\n",
    "    hidden[i,j] = cell(recursive_mdrnn(input_matrix, hidden, i, j-1),\n",
    "                       recursive_mdrnn(input_matrix, hidden, i-1, j),\n",
    "                       recursive_mdrnn(input_matrix, hidden, i-1, j-1),\n",
    "                       input_matrix[i,j])\n",
    "    \n",
    "    return hidden[i,j]"
   ]
  },
  {
   "cell_type": "code",
   "execution_count": 4,
   "metadata": {},
   "outputs": [
    {
     "name": "stdout",
     "output_type": "stream",
     "text": [
      "Model: \"sequential\"\n",
      "_________________________________________________________________\n",
      "Layer (type)                 Output Shape              Param #   \n",
      "=================================================================\n",
      "multi_dimensional_rnn (Multi (None, 1)                 0         \n",
      "=================================================================\n",
      "Total params: 0\n",
      "Trainable params: 0\n",
      "Non-trainable params: 0\n",
      "_________________________________________________________________\n"
     ]
    }
   ],
   "source": [
    "# keras tensorflow model with same computation\n",
    "SHAPE = (5,5,1)\n",
    "\n",
    "class SumCell(tf.keras.layers.Layer):\n",
    "    def call(self, x, states):\n",
    "        left_state = states[0]\n",
    "        top_state = states[1]\n",
    "        diagonal_state = states[2]\n",
    "        \n",
    "        return left_state + top_state + diagonal_state + x\n",
    "\n",
    "def create_model(shape, show_summary = True):\n",
    "    model = tf.keras.Sequential()\n",
    "    model.add(MultiDimensionalRNN(SumCell(), inital_state=0.0, input_shape=shape))\n",
    "    \n",
    "    if show_summary:\n",
    "        model.summary()\n",
    "    return model\n",
    "\n",
    "model = create_model(SHAPE)"
   ]
  },
  {
   "cell_type": "code",
   "execution_count": 5,
   "metadata": {},
   "outputs": [
    {
     "name": "stdout",
     "output_type": "stream",
     "text": [
      "[[0. 0. 0. 0. 0.]\n",
      " [0. 0. 1. 0. 0.]\n",
      " [0. 0. 0. 1. 0.]\n",
      " [0. 0. 0. 0. 0.]\n",
      " [0. 0. 0. 0. 0.]]\n"
     ]
    }
   ],
   "source": [
    "# define matrix\n",
    "matrix = np.zeros(SHAPE)\n",
    "matrix[1,2] = 1\n",
    "matrix[2,3] = 1\n",
    "\n",
    "print(matrix[:,:,0])"
   ]
  },
  {
   "cell_type": "markdown",
   "metadata": {},
   "source": [
    "## Compare results with two solutions"
   ]
  },
  {
   "cell_type": "code",
   "execution_count": 6,
   "metadata": {},
   "outputs": [
    {
     "name": "stdout",
     "output_type": "stream",
     "text": [
      "Recursive solution: [30.]\n",
      "[[ 0.  0.  0.  0.  0.]\n",
      " [ 0.  0.  1.  1.  1.]\n",
      " [ 0.  0.  1.  4.  6.]\n",
      " [ 0.  0.  1.  6. 16.]\n",
      " [ 0.  0.  1.  8. 30.]]\n",
      "Tensorflow solution: [[30.]]\n"
     ]
    }
   ],
   "source": [
    "\n",
    "hidden_states_matrix = np.zeros(SHAPE) - 1\n",
    "r0 = recursive_mdrnn(matrix, hidden_states_matrix, SHAPE[0]-1, SHAPE[1]-1)\n",
    "print(\"Recursive solution:\", r0)\n",
    "print(hidden_states_matrix[:,:,0])\n",
    "\n",
    "r1 = model.predict(np.array([matrix]))\n",
    "print(\"Tensorflow solution:\", r1)\n"
   ]
  },
  {
   "cell_type": "code",
   "execution_count": 7,
   "metadata": {},
   "outputs": [
    {
     "name": "stdout",
     "output_type": "stream",
     "text": [
      "No errors\n"
     ]
    }
   ],
   "source": [
    "\n",
    "# some random matrix texts\n",
    "N = 100\n",
    "for i in range(N):\n",
    "    \n",
    "    m = np.random.randint(0,10, SHAPE)\n",
    "\n",
    "    hidden_states_matrix = np.zeros(SHAPE) - 1\n",
    "    r0 = recursive_mdrnn(m, hidden_states_matrix, SHAPE[0]-1, SHAPE[1]-1)\n",
    "\n",
    "    r1 = model.predict(np.array([m]))\n",
    "   \n",
    "    assert r0[0]==r1[0][0]\n",
    "\n",
    "print(\"No errors\")"
   ]
  },
  {
   "cell_type": "code",
   "execution_count": 8,
   "metadata": {},
   "outputs": [
    {
     "name": "stdout",
     "output_type": "stream",
     "text": [
      "No errors\n"
     ]
    }
   ],
   "source": [
    "from tensorflow.keras import backend as K\n",
    "\n",
    "# some random matrix texts with random shapes\n",
    "\n",
    "N = 100\n",
    "for i in range(N):\n",
    "    \n",
    "    shape_rows = np.random.randint(2,10, ())\n",
    "    shape_cols = np.random.randint(2,10, ())\n",
    "\n",
    "    shape = (shape_rows, shape_cols, 1)\n",
    "\n",
    "    m = 0.02*np.random.normal(size=shape) -0.01\n",
    "\n",
    "    hidden_states_matrix = np.zeros(shape) - 1\n",
    "    r0 = recursive_mdrnn(m, hidden_states_matrix, shape[0]-1, shape[1]-1)\n",
    "    \n",
    "    # need to reacreate the model due to shape incompatibility\n",
    "    K.clear_session()\n",
    "    model = create_model(shape, show_summary=False)\n",
    "    r1 = model.predict(np.array([m]))\n",
    "   \n",
    "    assert np.round(r0[0])==np.round(r1[0][0])\n",
    "\n",
    "print(\"No errors\")"
   ]
  },
  {
   "cell_type": "code",
   "execution_count": null,
   "metadata": {},
   "outputs": [],
   "source": []
  }
 ],
 "metadata": {
  "kernelspec": {
   "display_name": "Tensorflow 2.0",
   "language": "python",
   "name": "tf2"
  },
  "language_info": {
   "codemirror_mode": {
    "name": "ipython",
    "version": 3
   },
   "file_extension": ".py",
   "mimetype": "text/x-python",
   "name": "python",
   "nbconvert_exporter": "python",
   "pygments_lexer": "ipython3",
   "version": "3.5.2"
  }
 },
 "nbformat": 4,
 "nbformat_minor": 2
}

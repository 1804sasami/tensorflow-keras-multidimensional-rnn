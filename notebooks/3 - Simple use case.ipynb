{
 "cells": [
  {
   "cell_type": "code",
   "execution_count": 4,
   "metadata": {},
   "outputs": [
    {
     "name": "stdout",
     "output_type": "stream",
     "text": [
      "[DYNAMIC LOOP] input shape Tensor(\"Shape:0\", shape=(3,), dtype=int32)\n",
      "Loop Iterations 25\n",
      "[DYNAMIC LOOP] input shape Tensor(\"Shape:0\", shape=(3,), dtype=int32)\n",
      "Loop Iterations 25\n",
      "Model: \"sequential\"\n",
      "_________________________________________________________________\n",
      "Layer (type)                 Output Shape              Param #   \n",
      "=================================================================\n",
      "multi_dimensional_rnn (Multi (None, 4)                 448       \n",
      "_________________________________________________________________\n",
      "dense (Dense)                (None, 1)                 5         \n",
      "=================================================================\n",
      "Total params: 453\n",
      "Trainable params: 453\n",
      "Non-trainable params: 0\n",
      "_________________________________________________________________\n"
     ]
    }
   ],
   "source": [
    "# normal tensorflow keras imports\n",
    "from tensorflow.keras import Sequential\n",
    "from tensorflow.keras.layers import Dense\n",
    "from tensorflow.keras import backend as K\n",
    "\n",
    "\n",
    "# multidimensional rnn imports\n",
    "from tfmd.mdrnn import MultiDimensionalRNN\n",
    "from tfmd.mdcells import MultiDimensinalGRUCell\n",
    "\n",
    "K.clear_session()\n",
    "\n",
    "gru_units = 4\n",
    "\n",
    "model = Sequential()\n",
    "model.add(MultiDimensionalRNN(MultiDimensinalGRUCell(gru_units, activation='tanh'), input_shape=(5,5,1)))\n",
    "model.add(Dense(1))\n",
    "\n",
    "model.summary()\n"
   ]
  },
  {
   "cell_type": "code",
   "execution_count": 5,
   "metadata": {},
   "outputs": [
    {
     "data": {
      "text/plain": [
       "array([[-0.38205302],\n",
       "       [-0.36990285],\n",
       "       [-0.28787488],\n",
       "       [-0.44234917],\n",
       "       [-0.28775924],\n",
       "       [-0.33558056],\n",
       "       [-0.399249  ],\n",
       "       [-0.5348224 ],\n",
       "       [-0.2060808 ],\n",
       "       [-0.3973306 ]], dtype=float32)"
      ]
     },
     "execution_count": 5,
     "metadata": {},
     "output_type": "execute_result"
    }
   ],
   "source": [
    "## random input\n",
    "import numpy as np\n",
    "\n",
    "samples = np.random.random((10,5,5,1)) # ten samples\n",
    "\n",
    "# make the computations on the samples\n",
    "model.predict(samples)\n"
   ]
  },
  {
   "cell_type": "code",
   "execution_count": null,
   "metadata": {},
   "outputs": [],
   "source": []
  },
  {
   "cell_type": "code",
   "execution_count": null,
   "metadata": {},
   "outputs": [],
   "source": []
  }
 ],
 "metadata": {
  "kernelspec": {
   "display_name": "TensorFlow2Wnir",
   "language": "python",
   "name": "tensor2"
  },
  "language_info": {
   "codemirror_mode": {
    "name": "ipython",
    "version": 3
   },
   "file_extension": ".py",
   "mimetype": "text/x-python",
   "name": "python",
   "nbconvert_exporter": "python",
   "pygments_lexer": "ipython3",
   "version": "3.5.2"
  }
 },
 "nbformat": 4,
 "nbformat_minor": 2
}

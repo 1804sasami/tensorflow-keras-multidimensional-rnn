{
 "cells": [
  {
   "cell_type": "markdown",
   "metadata": {},
   "source": [
    "## Flow validation\n",
    "\n",
    "This notebook has the objective of testing "
   ]
  },
  {
   "cell_type": "code",
   "execution_count": 1,
   "metadata": {},
   "outputs": [
    {
     "data": {
      "text/plain": [
       "'2.0.0'"
      ]
     },
     "execution_count": 1,
     "metadata": {},
     "output_type": "execute_result"
    }
   ],
   "source": [
    "import tensorflow as tf\n",
    "import numpy as np\n",
    "\n",
    "tf.__version__"
   ]
  },
  {
   "cell_type": "code",
   "execution_count": 21,
   "metadata": {},
   "outputs": [],
   "source": [
    "# create a matrix\n",
    "\n",
    "matrix = np.zeros((5,5))\n",
    "matrix[1,2] = 1\n",
    "matrix[2,3] = 1\n",
    "matrix = np.array([[3, 3, 3, 4, 0, 3],\n",
    "       [3, 3, 0, 1, 2, 0],\n",
    "       [1, 2, 4, 3, 4, 4],\n",
    "       [2, 0, 2, 4, 2, 0],\n",
    "       [4, 0, 1, 0, 0, 2]])"
   ]
  },
  {
   "cell_type": "code",
   "execution_count": 22,
   "metadata": {},
   "outputs": [
    {
     "name": "stdout",
     "output_type": "stream",
     "text": [
      "(5054, array([[   3,    6,    9,   13,   13,   16],\n",
      "       [   6,   18,   33,   56,   84,  113],\n",
      "       [   7,   33,   88,  180,  324,  525],\n",
      "       [   9,   49,  172,  444,  950, 1799],\n",
      "       [  13,   71,  293,  909, 2303, 5054]]))\n",
      "1826\n"
     ]
    }
   ],
   "source": [
    "\n",
    "c = 0\n",
    "\n",
    "h_matrix = np.zeros_like(matrix)\n",
    "\n",
    "def _2d_rec(h_matrix, i,j):\n",
    "    \n",
    "    if i<0 or j<0:\n",
    "        return 0, h_matrix\n",
    "    \n",
    "    h_matrix[i,j] = _2d_rec(h_matrix, i, j-1)[0] + _2d_rec(h_matrix, i-1, j)[0] + _2d_rec(h_matrix, i-1, j-1)[0] + matrix[i,j]\n",
    "    global c\n",
    "    c+=1\n",
    "    return h_matrix[i,j], h_matrix\n",
    "\n",
    "print(_2d_rec(h_matrix, h_matrix.shape[0]-1, h_matrix.shape[1]-1))\n",
    "print(c)"
   ]
  },
  {
   "cell_type": "code",
   "execution_count": 12,
   "metadata": {},
   "outputs": [
    {
     "name": "stdout",
     "output_type": "stream",
     "text": [
      "30.0\n",
      "[[ 0.  0.  0.  0.  0.]\n",
      " [ 0.  0.  1.  1.  1.]\n",
      " [ 0.  0.  1.  4.  6.]\n",
      " [ 0.  0.  1.  6. 16.]\n",
      " [ 0.  0.  1.  8. 30.]]\n",
      "25\n"
     ]
    }
   ],
   "source": [
    "# Dynamic programing TRICKs\n",
    "\n",
    "c = 0\n",
    "\n",
    "h_matrix = np.zeros((5,5)) - 1\n",
    "\n",
    "def _2d_rec(h_matrix, i,j):\n",
    "    \n",
    "    if i<0 or j<0:\n",
    "        return 0\n",
    "    \n",
    "    if h_matrix[i,j] !=- 1: # MEMOIZATION\n",
    "        return h_matrix[i,j]\n",
    "    \n",
    "    h_matrix[i,j] = _2d_rec(h_matrix, i, j-1) + _2d_rec(h_matrix, i-1, j) + _2d_rec(h_matrix, i-1, j-1) + matrix[i,j]\n",
    "    global c\n",
    "    c+=1\n",
    "    return h_matrix[i,j]\n",
    "\n",
    "print(rec(h_matrix, 4,4))\n",
    "print(h_matrix)\n",
    "print(c)"
   ]
  },
  {
   "cell_type": "code",
   "execution_count": 11,
   "metadata": {},
   "outputs": [
    {
     "name": "stdout",
     "output_type": "stream",
     "text": [
      "30.0\n",
      "[[ 0.  0.  0.  0.  0.]\n",
      " [ 0.  0.  1.  1.  1.]\n",
      " [ 0.  0.  1.  4.  6.]\n",
      " [ 0.  0.  1.  6. 16.]\n",
      " [ 0.  0.  1.  8. 30.]]\n",
      "16\n"
     ]
    }
   ],
   "source": [
    "# 2D sequential approach\n",
    "\n",
    "h_matrix = np.zeros((5,5))\n",
    "matrix = np.zeros((5,5))\n",
    "matrix[1,2] = 1\n",
    "matrix[2,3] = 1\n",
    "c = 0\n",
    "\n",
    "def _2d_sequential(hi,hj):\n",
    "    for i in range(1,hi+1):\n",
    "        for j in range(1,hj+1):\n",
    "            h_matrix[i,j] = h_matrix[i,j-1] + h_matrix[i-1,j] + h_matrix[i-1,j-1] + matrix[i,j]\n",
    "            global c\n",
    "            c+=1\n",
    "            \n",
    "    return h_matrix[hi,hj]\n",
    "\n",
    "print(_2d_sequential(4,4))\n",
    "print(h_matrix)\n",
    "print(c)"
   ]
  },
  {
   "cell_type": "code",
   "execution_count": 10,
   "metadata": {},
   "outputs": [
    {
     "name": "stdout",
     "output_type": "stream",
     "text": [
      "30.0\n",
      "[ 0.  0.  0.  0.  0.  0.  0.  1.  1.  1.  0.  0.  1.  4.  6.  0.  0.  1.\n",
      "  6. 16.  0.  0.  1.  8. 30.  0.]\n",
      "[[ 0.  0.  0.  0.  0.]\n",
      " [ 0.  0.  1.  1.  1.]\n",
      " [ 0.  0.  1.  4.  6.]\n",
      " [ 0.  0.  1.  6. 16.]\n",
      " [ 0.  0.  1.  8. 30.]]\n"
     ]
    }
   ],
   "source": [
    "# sequencial single loop\n",
    "\n",
    "h_matrix = np.zeros(5*5+1)\n",
    "matrix = np.zeros((5,5))\n",
    "matrix[1,2] = 1\n",
    "matrix[2,3] = 1\n",
    "#matrix = matrix.flatten()\n",
    "\n",
    "\n",
    "def _1d_sequential(hi,hj):\n",
    "    \n",
    "    def _1d_to_2d(index):\n",
    "        return (index//(hi+1), index%(hj+1))\n",
    "    \n",
    "    def _2d_to_1d(k,l):\n",
    "        if k<0 or l<0:\n",
    "            return (hi+1)*(hj+1)\n",
    "        return k*(hi+1)+l\n",
    "    \n",
    "    for index in range(0,(hi+1)*(hj+1)):\n",
    "        \n",
    "        i,j = _1d_to_2d(index)\n",
    "        h_matrix[_2d_to_1d(i,j)] = h_matrix[_2d_to_1d(i,j-1)] + h_matrix[_2d_to_1d(i-1,j)] + h_matrix[_2d_to_1d(i-1,j-1)] + matrix[i,j]\n",
    "            \n",
    "    return h_matrix[_2d_to_1d(hi,hj)]\n",
    "\n",
    "print(_1d_sequential(4,4))\n",
    "print(h_matrix)\n",
    "print(np.reshape(h_matrix[:25], (5,5)))\n"
   ]
  },
  {
   "cell_type": "code",
   "execution_count": 30,
   "metadata": {},
   "outputs": [
    {
     "name": "stdout",
     "output_type": "stream",
     "text": [
      "30.0\n",
      "[ 0.  0.  0.  0.  0.  0.  0.  1.  1.  1.  0.  0.  1.  4.  6.  0.  0.  1.\n",
      "  6. 16.  0.  0.  1.  8. 30.]\n",
      "[[ 0.  0.  0.  0.  0.]\n",
      " [ 0.  0.  1.  1.  1.]\n",
      " [ 0.  0.  1.  4.  6.]\n",
      " [ 0.  0.  1.  6. 16.]\n",
      " [ 0.  0.  1.  8. 30.]]\n"
     ]
    }
   ],
   "source": [
    "# sequencial single loop preaty close to the TensorFlow instructions and capabilities\n",
    "\n",
    "h_matrix = np.zeros(5*5)\n",
    "matrix = np.zeros((5,5))\n",
    "matrix[1,2] = 1\n",
    "matrix[2,3] = 1\n",
    "\n",
    "\n",
    "def _1d_sequential(matrix):\n",
    "    \n",
    "    rows = matrix.shape[0]\n",
    "    colums = matrix.shape[1]\n",
    "    matrix = matrix.flatten()\n",
    "    \n",
    "    initial_state = 0\n",
    "    \n",
    "    def get_back(index, colums):\n",
    "        if 0>=index%colums:\n",
    "            return initial_state\n",
    "        else:\n",
    "            return h_matrix[index-1]\n",
    "    \n",
    "    def get_up(index, colums):\n",
    "        if index<colums:\n",
    "            return initial_state\n",
    "        else:\n",
    "            return h_matrix[index-colums]\n",
    "    \n",
    "    def get_diagonal(index, colums):\n",
    "        if 0>=index%colums or index<colums:\n",
    "            return initial_state\n",
    "        else:\n",
    "            return h_matrix[index-colums-1]\n",
    "    \n",
    "    for index in range(rows*colums):\n",
    "\n",
    "        h_matrix[index] = get_back(index, colums) + get_up(index, colums) + get_diagonal(index, colums) + matrix[index]\n",
    "            \n",
    "    return h_matrix[index]\n",
    "\n",
    "print(_1d_sequential(matrix))\n",
    "print(h_matrix)\n",
    "print(np.reshape(h_matrix, (5,5)))\n"
   ]
  },
  {
   "cell_type": "markdown",
   "metadata": {},
   "source": [
    "## TensorFlow 2.0 implementation\n",
    "\n",
    "Now let's the tensorflow stuff begin!\n",
    "\n",
    "(The code was build arround the tf.while_loop mentallity, so the convertion to tf.1.* should be easy)"
   ]
  },
  {
   "cell_type": "code",
   "execution_count": 2,
   "metadata": {},
   "outputs": [],
   "source": [
    "# auxiliar code to visualize the computational graph\n",
    "from utils import save_graph\n"
   ]
  },
  {
   "cell_type": "code",
   "execution_count": 2,
   "metadata": {},
   "outputs": [
    {
     "name": "stdout",
     "output_type": "stream",
     "text": [
      "(5, 8)\n"
     ]
    }
   ],
   "source": [
    "# tensorflow 2.0 for loops\n",
    "tf.keras.backend.clear_session()\n",
    "\n",
    "## INITIALIZATION\n",
    "matrix = np.zeros((5,8), dtype=np.int32)\n",
    "matrix[1,2] = 1\n",
    "matrix[2,3] = 1\n",
    "print(matrix.shape)\n",
    "\n",
    "\n",
    "def recurrent_step(_input, back_state, up_state, diagonal_state):\n",
    "    # recurrent_states [BACK, UP, DIAGONAL]\n",
    "    \n",
    "    # new hidden state\n",
    "    return back_state + up_state + diagonal_state + _input\n",
    "\n",
    "\n",
    "# Base LOOP\n",
    "@tf.function\n",
    "def dynamic_tf_loop(input_data, recurrent_step):\n",
    "    \n",
    "    \n",
    "    initial_state = tf.constant(0, dtype=tf.int32) # default state\n",
    "    \n",
    "    # shapes\n",
    "    rows = input_data.shape[0]\n",
    "    columns = input_data.shape[1]\n",
    "\n",
    "    input_flat = tf.TensorArray(dtype=tf.int32, size=rows*columns)\n",
    "    input_data = tf.reshape(input_data, [-1])\n",
    "    input_flat = input_flat.unstack(input_data) # 1D data representation\n",
    "\n",
    "    ######\n",
    "    # find the recursive states base on the one dimentional index\n",
    "    ######\n",
    "    def get_back_state(index, states, columns):\n",
    "        if 0>=index%columns: # out of the matrix/terminal case\n",
    "            return initial_state\n",
    "        else:\n",
    "            return states.read(index-1)\n",
    " \n",
    "    def get_up_state(index, states, columns):\n",
    "        if index<columns: # out of the matrix/terminal case\n",
    "            return initial_state\n",
    "        else:\n",
    "            return states.read(index-columns)\n",
    "\n",
    "    def get_diagonal_state(index, states, columns):\n",
    "        if 0>=index%columns or index<columns: # out of the matrix/terminal case\n",
    "            return initial_state\n",
    "        else:\n",
    "            return states.read(index-columns-1)\n",
    "    ######\n",
    "    # END\n",
    "    ######\n",
    "    \n",
    "    # flat matrix with all the hidden states\n",
    "    # clear_after_read must be False, since some entries (e.g. diagonal) could read up on 3 times the same state value\n",
    "    states = tf.TensorArray(dtype=tf.int32, size=rows*columns, clear_after_read = False)\n",
    "\n",
    "    # sequential loop -> recursive loop\n",
    "    for i in tf.range(rows*columns):\n",
    "        states = states.write(i,\n",
    "                              recurrent_step(input_flat.read(i),\n",
    "                                             get_back_state(i, states, columns),\n",
    "                                             get_up_state(i, states, columns),\n",
    "                                             get_diagonal_state(i, states, columns))\n",
    "                             )\n",
    "\n",
    "        \n",
    "    return states.stack() # tensor with all the hidden states"
   ]
  },
  {
   "cell_type": "code",
   "execution_count": 4,
   "metadata": {},
   "outputs": [
    {
     "name": "stdout",
     "output_type": "stream",
     "text": [
      "5 8\n",
      "Tensor(\"TensorListLength:0\", shape=(), dtype=int32)\n",
      "[[  0   0   0   0   0   0   0   0]\n",
      " [  0   0   1   1   1   1   1   1]\n",
      " [  0   0   1   4   6   8  10  12]\n",
      " [  0   0   1   6  16  30  48  70]\n",
      " [  0   0   1   8  30  76 154 272]]\n"
     ]
    }
   ],
   "source": [
    "all_h = save_graph(dynamic_tf_loop, input_data=matrix, recurrent_step=recurrent_step)\n",
    "\n",
    "print(np.reshape(all_h, matrix.shape))"
   ]
  },
  {
   "cell_type": "code",
   "execution_count": 14,
   "metadata": {},
   "outputs": [
    {
     "data": {
      "text/plain": [
       "<tf.Tensor: id=650, shape=(10000,), dtype=int32, numpy=\n",
       "array([          0,           0,           2, ...,  -225304945,\n",
       "          62681105, -1180517391], dtype=int32)>"
      ]
     },
     "execution_count": 14,
     "metadata": {},
     "output_type": "execute_result"
    }
   ],
   "source": [
    "random_m = np.random.randint(0,3,size=(100,100), dtype=np.int32)\n",
    "\n",
    "dynamic_tf_loop(random_m, recurrent_step)"
   ]
  },
  {
   "cell_type": "code",
   "execution_count": 13,
   "metadata": {},
   "outputs": [
    {
     "data": {
      "text/plain": [
       "<tf.Tensor: id=648, shape=(2, 3, 4), dtype=float32, numpy=\n",
       "array([[[0.06657267, 0.7333988 , 0.04778051, 0.36243272],\n",
       "        [0.30615163, 1.0460746 , 0.68944657, 0.7993324 ],\n",
       "        [0.6579858 , 1.8429313 , 0.939247  , 0.80793846]],\n",
       "\n",
       "       [[0.68030334, 0.2816136 , 0.0358274 , 0.51169956],\n",
       "        [1.0998355 , 0.5770551 , 0.5795438 , 1.3838853 ],\n",
       "        [1.4530628 , 1.4685435 , 0.9450753 , 1.7760564 ]]], dtype=float32)>"
      ]
     },
     "execution_count": 13,
     "metadata": {},
     "output_type": "execute_result"
    }
   ],
   "source": [
    "# Simple example from TF docs: https://www.tensorflow.org/tutorials/customization/performance\n",
    "# \n",
    "\n",
    "batch_size = 2\n",
    "seq_len = 3\n",
    "feature_size = 4\n",
    "\n",
    "def rnn_step(inp, state):\n",
    "    return inp + state\n",
    "\n",
    "@tf.function\n",
    "def dynamic_rnn(rnn_step, input_data, initial_state):\n",
    "    # [batch, time, features] -> [time, batch, features]\n",
    "    input_data = tf.transpose(input_data, [1, 0, 2])\n",
    "    max_seq_len = input_data.shape[0]\n",
    "\n",
    "    states = tf.TensorArray(tf.float32, size=max_seq_len)\n",
    "    state = initial_state\n",
    "    \n",
    "    for i in tf.range(max_seq_len):\n",
    "        state = rnn_step(input_data[i], state)\n",
    "        states = states.write(i, state)\n",
    "    \n",
    "    return tf.transpose(states.stack(), [1, 0, 2])\n",
    "  \n",
    "dynamic_rnn(rnn_step,\n",
    "            tf.random.uniform([batch_size, seq_len, feature_size]),\n",
    "            tf.zeros([batch_size, feature_size]))\n"
   ]
  },
  {
   "cell_type": "code",
   "execution_count": 17,
   "metadata": {},
   "outputs": [],
   "source": []
  },
  {
   "cell_type": "code",
   "execution_count": null,
   "metadata": {},
   "outputs": [],
   "source": []
  },
  {
   "cell_type": "code",
   "execution_count": null,
   "metadata": {},
   "outputs": [],
   "source": []
  },
  {
   "cell_type": "code",
   "execution_count": null,
   "metadata": {},
   "outputs": [],
   "source": []
  },
  {
   "cell_type": "code",
   "execution_count": null,
   "metadata": {},
   "outputs": [],
   "source": []
  },
  {
   "cell_type": "code",
   "execution_count": 24,
   "metadata": {},
   "outputs": [],
   "source": [
    "\n"
   ]
  },
  {
   "cell_type": "code",
   "execution_count": null,
   "metadata": {},
   "outputs": [],
   "source": []
  },
  {
   "cell_type": "code",
   "execution_count": null,
   "metadata": {},
   "outputs": [],
   "source": []
  }
 ],
 "metadata": {
  "kernelspec": {
   "display_name": "Tensorflow 2.0",
   "language": "python",
   "name": "tf2"
  },
  "language_info": {
   "codemirror_mode": {
    "name": "ipython",
    "version": 3
   },
   "file_extension": ".py",
   "mimetype": "text/x-python",
   "name": "python",
   "nbconvert_exporter": "python",
   "pygments_lexer": "ipython3",
   "version": "3.5.2"
  }
 },
 "nbformat": 4,
 "nbformat_minor": 2
}
